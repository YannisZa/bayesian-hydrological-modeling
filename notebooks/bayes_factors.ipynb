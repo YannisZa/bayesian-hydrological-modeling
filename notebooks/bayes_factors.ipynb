{
 "cells": [
  {
   "cell_type": "code",
   "execution_count": 1,
   "metadata": {},
   "outputs": [],
   "source": [
    "import os\n",
    "import theano\n",
    "from theano import *\n",
    "import theano.tensor as tt\n",
    "from theano.compile.ops import as_op\n",
    "import matplotlib.pyplot as plt\n",
    "from argparse import Namespace\n",
    "import pandas as pd\n",
    "import numpy as np\n",
    "import pymc3 as pm\n",
    "import argparse\n",
    "import pickle\n",
    "import json\n",
    "import math\n",
    "import sys  \n",
    "\n",
    "sys.path.insert(0, '/Users/Yannis/code/fibe2-mini-project/models')\n",
    "from HymodModel import HymodModel as HYMOD"
   ]
  },
  {
   "cell_type": "markdown",
   "metadata": {},
   "source": [
    "# Import data"
   ]
  },
  {
   "cell_type": "code",
   "execution_count": 2,
   "metadata": {},
   "outputs": [],
   "source": [
    "# Get current working directory and project root directory\n",
    "cwd = os.getcwd()\n",
    "rd = os.path.join(cwd.split('fibe2-mini-project/', 1)[0])\n",
    "if not rd.endswith('fibe2-mini-project'):\n",
    "    rd = os.path.join(cwd.split('fibe2-mini-project/', 1)[0],'fibe2-mini-project')"
   ]
  },
  {
   "cell_type": "code",
   "execution_count": 3,
   "metadata": {},
   "outputs": [],
   "source": [
    "model0data = pd.read_csv(os.path.join(rd,'data','output','simulations','linear_reservoir_simulation_monthly.csv'))\n",
    "model1data = pd.read_csv(os.path.join(rd,'data','output','simulations','nonlinear_reservoir_simulation_monthly.csv'))\n",
    "model2data = pd.read_csv(os.path.join(rd,'data','output','simulations','hymod_simulation_monthly.csv'))\n",
    "\n",
    "# Store net net_rainfall\n",
    "nr = model0data['net_rainfall'].values.tolist()\n",
    "et = model0data['evapotranspiration'].values.tolist()\n",
    "n = len(nr)\n",
    "\n",
    "\n",
    "with open(os.path.join(rd,'data','output','simulations/linear_reservoir_simulation_monthly_true_parameters.json'), 'r') as f:\n",
    "    lrm_true_params = json.load(f)\n",
    "lrm_true_args = Namespace(**lrm_true_params)\n",
    "\n",
    "with open(os.path.join(rd,'data','output','simulations/nonlinear_reservoir_simulation_monthly_true_parameters.json'), 'r') as f:\n",
    "    nlrm_true_params = json.load(f)\n",
    "nlrm_true_args = Namespace(**nlrm_true_params)\n",
    "\n",
    "with open(os.path.join(rd,'data','output','simulations/hymod_simulation_monthly_true_parameters.json'), 'r') as f:\n",
    "    hymod_true_params = json.load(f)\n",
    "hymod_true_args = Namespace(**hymod_true_params)"
   ]
  },
  {
   "cell_type": "code",
   "execution_count": 4,
   "metadata": {},
   "outputs": [],
   "source": [
    "hymod = HYMOD(nr,et,hymod_true_args)\n",
    "\n",
    "@as_op(itypes=[tt.dscalar,tt.dscalar,tt.dscalar,tt.dscalar,tt.dscalar], otypes=[tt.dmatrix])\n",
    "def th_forward_model(param1,param2,param3,param4,param5):\n",
    "    parameter_list = [param1,param2,param3,param4,param5]\n",
    "\n",
    "    th_states = hymod.simulate(parameter_list,hymod_true_args)\n",
    "    return th_states"
   ]
  },
  {
   "cell_type": "code",
   "execution_count": 5,
   "metadata": {},
   "outputs": [],
   "source": [
    "# Path to files\n",
    "HYMODtrace_LRMdata_file = os.path.join(rd,'data','output','posterior_samples/hymod_samples_monthly_LRMdata_trace.pickle')\n",
    "HYMODmodel_LRMdata_file = os.path.join(rd,'data','output','posterior_samples/hymod_samples_monthly_LRMdata_model.pickle')\n",
    "\n",
    "HYMODtrace_NLRMdata_file = os.path.join(rd,'data','output','posterior_samples/hymod_samples_monthly_NLRMdata_trace.pickle')\n",
    "HYMODmodel_NLRMdata_file = os.path.join(rd,'data','output','posterior_samples/hymod_samples_monthly_NLRMdata_model.pickle')\n",
    "\n",
    "HYMODtrace_HYMODdata_file = os.path.join(rd,'data','output','posterior_samples/hymod_samples_monthly_HYMODdata_trace.pickle')\n",
    "HYMODmodel_HYMODdata_file = os.path.join(rd,'data','output','posterior_samples/hymod_samples_monthly_HYMODdata_model.pickle')\n",
    "\n",
    "# Path to files\n",
    "LRMtrace_LRMdata_file = os.path.join(rd,'data','output','posterior_samples/linear_reservoir_samples_monthly_LRMdata_trace.pickle')\n",
    "LRMmodel_LRMdata_file = os.path.join(rd,'data','output','posterior_samples/linear_reservoir_samples_monthly_LRMdata_model.pickle')\n",
    "\n",
    "LRMtrace_NLRMdata_file = os.path.join(rd,'data','output','posterior_samples/linear_reservoir_samples_monthly_NLRMdata_trace.pickle')\n",
    "LRMmodel_NLRMdata_file = os.path.join(rd,'data','output','posterior_samples/linear_reservoir_samples_monthly_NLRMdata_model.pickle')\n",
    "\n",
    "LRMtrace_HYMODdata_file = os.path.join(rd,'data','output','posterior_samples/linear_reservoir_samples_monthly_HYMODdata_trace.pickle')\n",
    "LRMmodel_HYMODdata_file = os.path.join(rd,'data','output','posterior_samples/linear_reservoir_samples_monthly_HYMODdata_model.pickle')\n",
    "\n",
    "# Path to files\n",
    "NLRMtrace_LRMdata_file = os.path.join(rd,'data','output','posterior_samples/nonlinear_reservoir_samples_monthly_LRMdata_trace.pickle')\n",
    "NLRMmodel_LRMdata_file = os.path.join(rd,'data','output','posterior_samples/nonlinear_reservoir_samples_monthly_LRMdata_model.pickle')\n",
    "\n",
    "NLRMtrace_NLRMdata_file = os.path.join(rd,'data','output','posterior_samples/nonlinear_reservoir_samples_monthly_NLRMdata_trace.pickle')\n",
    "NLRMmodel_NLRMdata_file = os.path.join(rd,'data','output','posterior_samples/nonlinear_reservoir_samples_monthly_NLRMdata_model.pickle')\n",
    "\n",
    "NLRMtrace_HYMODdata_file = os.path.join(rd,'data','output','posterior_samples/nonlinear_reservoir_samples_monthly_HYMODdata_trace.pickle')\n",
    "NLRMmodel_HYMODdata_file = os.path.join(rd,'data','output','posterior_samples/nonlinear_reservoir_samples_monthly_HYMODdata_model.pickle')"
   ]
  },
  {
   "cell_type": "code",
   "execution_count": 6,
   "metadata": {},
   "outputs": [],
   "source": [
    "# Read files\n",
    "HYMODtrace_LRMdata = open(HYMODtrace_LRMdata_file,\"rb\")\n",
    "HYMODmodel_LRMdata = open(HYMODmodel_LRMdata_file,\"rb\")\n",
    "HYMODtrace_LRMdata = pickle.load(HYMODtrace_LRMdata)\n",
    "HYMODmodel_LRMdata = pickle.load(HYMODmodel_LRMdata)\n",
    "\n",
    "HYMODtrace_NLRMdata = open(HYMODtrace_NLRMdata_file,\"rb\")\n",
    "HYMODmodel_NLRMdata = open(HYMODmodel_NLRMdata_file,\"rb\")\n",
    "HYMODtrace_NLRMdata = pickle.load(HYMODtrace_NLRMdata)\n",
    "HYMODmodel_NLRMdata = pickle.load(HYMODmodel_NLRMdata)\n",
    "\n",
    "HYMODtrace_HYMODdata = open(HYMODtrace_HYMODdata_file,\"rb\")\n",
    "HYMODmodel_HYMODdata = open(HYMODmodel_HYMODdata_file,\"rb\")\n",
    "HYMODtrace_HYMODdata = pickle.load(HYMODtrace_HYMODdata)\n",
    "HYMODmodel_HYMODdata = pickle.load(HYMODmodel_HYMODdata)\n",
    "\n",
    "\n",
    "HYMODtraces = {\"LRM\":HYMODtrace_LRMdata,\"NLRM\":HYMODtrace_NLRMdata,\"HYMOD\":HYMODtrace_HYMODdata}\n",
    "HYMODmodels = {\"LRM\":HYMODmodel_LRMdata,\"NLRM\":HYMODmodel_NLRMdata,\"HYMOD\":HYMODmodel_HYMODdata}"
   ]
  },
  {
   "cell_type": "code",
   "execution_count": 7,
   "metadata": {},
   "outputs": [],
   "source": [
    "marginal_likelihoods = pd.DataFrame(columns = ['LRM_model', 'NLRM_model' , 'HYMOD_model'], index=['LRM_data','NLRM_data', 'HYMOD_data'])\n",
    "bayes_factors = pd.DataFrame(columns = ['LRM_model', 'NLRM_model' , 'HYMOD_model'], index=['LRM_data','NLRM_data', 'HYMOD_data'])"
   ]
  },
  {
   "cell_type": "code",
   "execution_count": 8,
   "metadata": {},
   "outputs": [],
   "source": [
    "marginal_likelihoods.xs('LRM_data')[\"HYMOD_model\"] = HYMODmodel_LRMdata.marginal_likelihood\n",
    "marginal_likelihoods.xs('NLRM_data')[\"HYMOD_model\"] = HYMODmodel_NLRMdata.marginal_likelihood\n",
    "marginal_likelihoods.xs('HYMOD_data')[\"HYMOD_model\"] = HYMODmodel_HYMODdata.marginal_likelihood"
   ]
  },
  {
   "cell_type": "code",
   "execution_count": 9,
   "metadata": {},
   "outputs": [],
   "source": [
    "from LinearReservoirModel import LinearReservoirModel as LRM\n",
    "lrm = LRM(nr,lrm_true_args)\n",
    "\n",
    "@as_op(itypes=[tt.dscalar], otypes=[tt.dmatrix])\n",
    "def th_forward_model(param1):\n",
    "    parameter_list = [param1]\n",
    "\n",
    "    th_states = lrm.simulate(parameter_list,lrm_true_args.fatconv)\n",
    "    return th_states\n",
    "\n",
    "LRMtrace_LRMdata = open(LRMtrace_LRMdata_file,\"rb\")\n",
    "LRMmodel_LRMdata = open(LRMmodel_LRMdata_file,\"rb\")\n",
    "LRMtrace_LRMdata = pickle.load(LRMtrace_LRMdata)\n",
    "LRMmodel_LRMdata = pickle.load(LRMmodel_LRMdata)\n",
    "\n",
    "LRMtrace_NLRMdata = open(LRMtrace_NLRMdata_file,\"rb\")\n",
    "LRMmodel_NLRMdata = open(LRMmodel_NLRMdata_file,\"rb\")\n",
    "LRMtrace_NLRMdata = pickle.load(LRMtrace_NLRMdata)\n",
    "LRMmodel_NLRMdata = pickle.load(LRMmodel_NLRMdata)\n",
    "\n",
    "LRMtrace_HYMODdata = open(LRMtrace_HYMODdata_file,\"rb\")\n",
    "LRMmodel_HYMODdata = open(LRMmodel_HYMODdata_file,\"rb\")\n",
    "LRMtrace_HYMODdata = pickle.load(LRMtrace_HYMODdata)\n",
    "LRMmodel_HYMODdata = pickle.load(LRMmodel_HYMODdata)\n",
    "\n",
    "LRMtraces = {\"LRM\":LRMtrace_LRMdata,\"NLRM\":LRMtrace_NLRMdata,\"HYMOD\":LRMtrace_HYMODdata}\n",
    "LRMmodels = {\"LRM\":LRMmodel_LRMdata,\"NLRM\":LRMtrace_NLRMdata,\"HYMOD\":LRMmodel_HYMODdata}"
   ]
  },
  {
   "cell_type": "code",
   "execution_count": 10,
   "metadata": {},
   "outputs": [],
   "source": [
    "marginal_likelihoods.xs('LRM_data')[\"LRM_model\"] = LRMmodel_LRMdata.marginal_likelihood\n",
    "marginal_likelihoods.xs('NLRM_data')[\"LRM_model\"] = LRMmodel_NLRMdata.marginal_likelihood\n",
    "marginal_likelihoods.xs('HYMOD_data')[\"LRM_model\"] = LRMmodel_HYMODdata.marginal_likelihood"
   ]
  },
  {
   "cell_type": "code",
   "execution_count": 11,
   "metadata": {},
   "outputs": [],
   "source": [
    "from NonLinearReservoirModel import NonLinearReservoirModel as NLRM\n",
    "# Instantiate linear reservoir statistical model\n",
    "nlrm = NLRM(nr,nlrm_true_args)\n",
    "\n",
    "@as_op(itypes=[tt.dscalar,tt.dscalar], otypes=[tt.dmatrix])\n",
    "def th_forward_model(param1,param2):\n",
    "    parameter_list = [param1,param2]\n",
    "\n",
    "    th_states = nlrm.simulate(parameter_list,nlrm_true_args.fatconv)\n",
    "    return th_states\n",
    "\n",
    "NLRMtrace_LRMdata = open(NLRMtrace_LRMdata_file,\"rb\")\n",
    "NLRMmodel_LRMdata = open(NLRMmodel_LRMdata_file,\"rb\")\n",
    "NLRMtrace_LRMdata = pickle.load(NLRMtrace_LRMdata)\n",
    "NLRMmodel_LRMdata = pickle.load(NLRMmodel_LRMdata)\n",
    "\n",
    "NLRMtrace_NLRMdata = open(NLRMtrace_NLRMdata_file,\"rb\")\n",
    "NLRMmodel_NLRMdata = open(NLRMmodel_NLRMdata_file,\"rb\")\n",
    "NLRMtrace_NLRMdata = pickle.load(NLRMtrace_NLRMdata)\n",
    "NLRMmodel_NLRMdata = pickle.load(NLRMmodel_NLRMdata)\n",
    "\n",
    "NLRMtrace_HYMODdata = open(NLRMtrace_HYMODdata_file,\"rb\")\n",
    "NLRMmodel_HYMODdata = open(NLRMmodel_HYMODdata_file,\"rb\")\n",
    "NLRMtrace_HYMODdata = pickle.load(NLRMtrace_HYMODdata)\n",
    "NLRMmodel_HYMODdata = pickle.load(NLRMmodel_HYMODdata)\n",
    "\n",
    "NLRMtraces = {\"LRM\":NLRMtrace_LRMdata,\"NLRM\":NLRMtrace_NLRMdata,\"HYMOD\":NLRMtrace_HYMODdata}\n",
    "NLRMmodels = {\"LRM\":NLRMtrace_LRMdata,\"NLRM\":NLRMmodel_NLRMdata,\"HYMOD\":NLRMmodel_HYMODdata}"
   ]
  },
  {
   "cell_type": "code",
   "execution_count": 12,
   "metadata": {},
   "outputs": [],
   "source": [
    "marginal_likelihoods.xs('LRM_data')[\"NLRM_model\"] = NLRMmodel_LRMdata.marginal_likelihood\n",
    "marginal_likelihoods.xs('NLRM_data')[\"NLRM_model\"] = NLRMmodel_NLRMdata.marginal_likelihood\n",
    "marginal_likelihoods.xs('HYMOD_data')[\"NLRM_model\"] = NLRMmodel_HYMODdata.marginal_likelihood"
   ]
  },
  {
   "cell_type": "code",
   "execution_count": 13,
   "metadata": {},
   "outputs": [],
   "source": [
    "log_marginal_likelihoods = marginal_likelihoods.applymap(lambda x: np.log(x))"
   ]
  },
  {
   "cell_type": "code",
   "execution_count": 12,
   "metadata": {},
   "outputs": [],
   "source": [
    "for m in [\"LRM\",\"HYMOD\"]:\n",
    "    for d in [\"LRM\",\"HYMOD\"]:\n",
    "        if m == d:\n",
    "            bayes_factors.xs((d+'_data'))[(m+'_model')] = 1\n",
    "        else:\n",
    "            bayes_factors.xs((d+'_data'))[(m+'_model')] = log_marginal_likelihoods.xs((d+'_data'))[(m+'_model')]/log_marginal_likelihoods.xs((m+'_data'))[(d+'_model')]"
   ]
  },
  {
   "cell_type": "code",
   "execution_count": 14,
   "metadata": {},
   "outputs": [
    {
     "data": {
      "text/html": [
       "<div>\n",
       "<style scoped>\n",
       "    .dataframe tbody tr th:only-of-type {\n",
       "        vertical-align: middle;\n",
       "    }\n",
       "\n",
       "    .dataframe tbody tr th {\n",
       "        vertical-align: top;\n",
       "    }\n",
       "\n",
       "    .dataframe thead th {\n",
       "        text-align: right;\n",
       "    }\n",
       "</style>\n",
       "<table border=\"1\" class=\"dataframe\">\n",
       "  <thead>\n",
       "    <tr style=\"text-align: right;\">\n",
       "      <th></th>\n",
       "      <th>LRM_model</th>\n",
       "      <th>NLRM_model</th>\n",
       "      <th>HYMOD_model</th>\n",
       "    </tr>\n",
       "  </thead>\n",
       "  <tbody>\n",
       "    <tr>\n",
       "      <th>LRM_data</th>\n",
       "      <td>2.58252e-11</td>\n",
       "      <td>1.78758e-17</td>\n",
       "      <td>6.14473e-66</td>\n",
       "    </tr>\n",
       "    <tr>\n",
       "      <th>NLRM_data</th>\n",
       "      <td>1.57472e-28</td>\n",
       "      <td>3.27177e-11</td>\n",
       "      <td>8.2266e-69</td>\n",
       "    </tr>\n",
       "    <tr>\n",
       "      <th>HYMOD_data</th>\n",
       "      <td>3.30797e-66</td>\n",
       "      <td>1.13218e-64</td>\n",
       "      <td>8.96483e-12</td>\n",
       "    </tr>\n",
       "  </tbody>\n",
       "</table>\n",
       "</div>"
      ],
      "text/plain": [
       "              LRM_model   NLRM_model  HYMOD_model\n",
       "LRM_data    2.58252e-11  1.78758e-17  6.14473e-66\n",
       "NLRM_data   1.57472e-28  3.27177e-11   8.2266e-69\n",
       "HYMOD_data  3.30797e-66  1.13218e-64  8.96483e-12"
      ]
     },
     "execution_count": 14,
     "metadata": {},
     "output_type": "execute_result"
    }
   ],
   "source": [
    "marginal_likelihoods"
   ]
  },
  {
   "cell_type": "code",
   "execution_count": 15,
   "metadata": {},
   "outputs": [
    {
     "data": {
      "text/html": [
       "<div>\n",
       "<style scoped>\n",
       "    .dataframe tbody tr th:only-of-type {\n",
       "        vertical-align: middle;\n",
       "    }\n",
       "\n",
       "    .dataframe tbody tr th {\n",
       "        vertical-align: top;\n",
       "    }\n",
       "\n",
       "    .dataframe thead th {\n",
       "        text-align: right;\n",
       "    }\n",
       "</style>\n",
       "<table border=\"1\" class=\"dataframe\">\n",
       "  <thead>\n",
       "    <tr style=\"text-align: right;\">\n",
       "      <th></th>\n",
       "      <th>LRM_model</th>\n",
       "      <th>NLRM_model</th>\n",
       "      <th>HYMOD_model</th>\n",
       "    </tr>\n",
       "  </thead>\n",
       "  <tbody>\n",
       "    <tr>\n",
       "      <th>LRM_data</th>\n",
       "      <td>-24.379671</td>\n",
       "      <td>-38.563083</td>\n",
       "      <td>-150.155022</td>\n",
       "    </tr>\n",
       "    <tr>\n",
       "      <th>NLRM_data</th>\n",
       "      <td>-64.018304</td>\n",
       "      <td>-24.143104</td>\n",
       "      <td>-156.770999</td>\n",
       "    </tr>\n",
       "    <tr>\n",
       "      <th>HYMOD_data</th>\n",
       "      <td>-150.774281</td>\n",
       "      <td>-147.241301</td>\n",
       "      <td>-25.437712</td>\n",
       "    </tr>\n",
       "  </tbody>\n",
       "</table>\n",
       "</div>"
      ],
      "text/plain": [
       "             LRM_model  NLRM_model  HYMOD_model\n",
       "LRM_data    -24.379671  -38.563083  -150.155022\n",
       "NLRM_data   -64.018304  -24.143104  -156.770999\n",
       "HYMOD_data -150.774281 -147.241301   -25.437712"
      ]
     },
     "execution_count": 15,
     "metadata": {},
     "output_type": "execute_result"
    }
   ],
   "source": [
    "log_marginal_likelihoods"
   ]
  }
 ],
 "metadata": {
  "kernelspec": {
   "display_name": "mini-project",
   "language": "python",
   "name": "mini-project"
  },
  "language_info": {
   "codemirror_mode": {
    "name": "ipython",
    "version": 3
   },
   "file_extension": ".py",
   "mimetype": "text/x-python",
   "name": "python",
   "nbconvert_exporter": "python",
   "pygments_lexer": "ipython3",
   "version": "3.7.5"
  }
 },
 "nbformat": 4,
 "nbformat_minor": 2
}
