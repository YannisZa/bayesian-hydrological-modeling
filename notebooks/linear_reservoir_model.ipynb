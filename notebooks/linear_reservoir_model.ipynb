{
 "cells": [
  {
   "cell_type": "code",
   "execution_count": 3,
   "metadata": {},
   "outputs": [
    {
     "name": "stdout",
     "output_type": "stream",
     "text": [
      "200000\n"
     ]
    }
   ],
   "source": [
    "import os\n",
    "import theano\n",
    "from theano import *\n",
    "import theano.tensor as tt\n",
    "from theano.compile.ops import as_op\n",
    "from scipy.interpolate import interp1d\n",
    "from tqdm import tqdm\n",
    "from scipy.integrate import odeint\n",
    "import matplotlib.pyplot as plt\n",
    "import pandas as pd\n",
    "import numpy as np\n",
    "import pymc3 as pm\n",
    "from argparse import Namespace\n",
    "import argparse\n",
    "import pickle\n",
    "import json\n",
    "import math\n",
    "import resource\n",
    "import traceback\n",
    "\n",
    "# Set maximum number of open files\n",
    "soft, hard = resource.getrlimit(resource.RLIMIT_NOFILE)\n",
    "print(hard)"
   ]
  },
  {
   "cell_type": "markdown",
   "metadata": {},
   "source": [
    "# Define parameters"
   ]
  },
  {
   "cell_type": "code",
   "execution_count": 5,
   "metadata": {},
   "outputs": [],
   "source": [
    "# Get current working directory and project root directory\n",
    "cwd = os.getcwd()\n",
    "rd = os.path.join(cwd.split('fibe2-mini-project/', 1)[0])\n",
    "if not rd.endswith('fibe2-mini-project'):\n",
    "    rd = os.path.join(cwd.split('fibe2-mini-project/', 1)[0],'fibe2-mini-project')"
   ]
  },
  {
   "cell_type": "code",
   "execution_count": 7,
   "metadata": {},
   "outputs": [
    {
     "name": "stdout",
     "output_type": "stream",
     "text": [
      "{\n",
      "  \"input_filename\": \"simulations/linear_reservoir_simulation.csv\",\n",
      "  \"output_filename\": \"posterior_samples/linear_reservoir_samples.pickle\",\n",
      "  \"kmax\": 10.0,\n",
      "  \"alpha\": 2.0,\n",
      "  \"beta\": 40.0,\n",
      "  \"nsamples\": 100,\n",
      "  \"nchains\": 1,\n",
      "  \"randomseed\": 24\n",
      "}\n"
     ]
    }
   ],
   "source": [
    "with open(os.path.join(rd,'data','output',\"posterior_samples/linear_reservoir_samples_priors.json\"), 'r') as f:\n",
    "    params = json.load(f)\n",
    "\n",
    "params['nsamples'] = 100\n",
    "params['nchains'] = 1\n",
    "\n",
    "with open(os.path.join(rd,'data','output',\"simulations/linear_reservoir_simulation_small_true_parameters.json\"), 'r') as f:\n",
    "    true_params = json.load(f)\n",
    "\n",
    "# Convert dict to namespace\n",
    "args = Namespace(**params)\n",
    "true_args = Namespace(**true_params)\n",
    "\n",
    "\n",
    "print(json.dumps(params, indent=2))"
   ]
  },
  {
   "cell_type": "code",
   "execution_count": 8,
   "metadata": {},
   "outputs": [],
   "source": [
    "class LinearReservoirModel(object):\n",
    "\n",
    "    def __init__(self, net_rainfall_data, parameters):\n",
    "            self._q0 = np.array([parameters.q0], dtype=np.float64)\n",
    "            self._times = range(0,len(net_rainfall_data))\n",
    "            self._nrint = interp1d(self._times, net_rainfall_data,fill_value=\"extrapolate\",kind='slinear')\n",
    "            self._n_times = len(net_rainfall_data)\n",
    "            self._n_states = 1\n",
    "            \n",
    "    def _simulate(self, parameters, times):\n",
    "        k = float(parameters[0])\n",
    "\n",
    "        def rhs(y, t, p):\n",
    "            return (max(self._nrint(t),0.0001) - y) * (1./k)\n",
    "#             return (self._nrint(t) - y) * (1./k)\n",
    "\n",
    "        values = odeint(rhs, self._q0, self._times, (parameters,),rtol=1e-6,atol=1e-6)\n",
    "        nonzero_values = np.array([[max(0.0001,qsim[0])] for qsim in values]).reshape(values.shape[0],1)\n",
    "\n",
    "#         return values\n",
    "        return nonzero_values\n",
    "\n",
    "    def simulate(self, x):\n",
    "        return self._simulate(x, self._times)"
   ]
  },
  {
   "cell_type": "markdown",
   "metadata": {},
   "source": [
    "# Import data"
   ]
  },
  {
   "cell_type": "code",
   "execution_count": 32,
   "metadata": {},
   "outputs": [],
   "source": [
    "ndata = 20 # max 199"
   ]
  },
  {
   "cell_type": "code",
   "execution_count": 35,
   "metadata": {},
   "outputs": [],
   "source": [
    "# Import simulated data from all three models\n",
    "model0data = pd.read_csv(os.path.join(rd,'data','output','simulations','linear_reservoir_simulation_small.csv'))\n",
    "model1data = pd.read_csv(os.path.join(rd,'data','output','simulations','nonlinear_reservoir_simulation_small.csv'))\n",
    "model2data = pd.read_csv(os.path.join(rd,'data','output','simulations','hymod_simulation_small.csv'))\n",
    "\n",
    "# Store net net_rainfall\n",
    "nr = model0data['net_rainfall'].values.tolist()\n",
    "nr = model0data['net_rainfall'].values.tolist()\n",
    "n = len(nr)\n",
    "\n",
    "# Store simulated discharges from three models\n",
    "model0q = model0data['discharge'].values.reshape(n,1)\n",
    "model1q = model1data['discharge'].values.reshape(n,1)\n",
    "model2q = model2data['discharge'].values.reshape(n,1)\n",
    "\n",
    "# Add model dischaged to dictionary\n",
    "model_discharges = {'LRM':model0q,'NLRM':model1q,'HYMOD':model2q}"
   ]
  },
  {
   "cell_type": "code",
   "execution_count": 36,
   "metadata": {},
   "outputs": [
    {
     "data": {
      "image/png": "[encoded data removed]",
      "text/plain": [
       "<Figure size 432x288 with 1 Axes>"
      ]
     },
     "metadata": {
      "needs_background": "light"
     },
     "output_type": "display_data"
    }
   ],
   "source": [
    "dt = [x[0] for x in model0q.tolist()]\n",
    "plt.plot(range(1,n+1),dt)\n",
    "plt.show()"
   ]
  },
  {
   "cell_type": "markdown",
   "metadata": {},
   "source": [
    "# Compute posterior samples"
   ]
  },
  {
   "cell_type": "code",
   "execution_count": null,
   "metadata": {
    "scrolled": false
   },
   "outputs": [
    {
     "name": "stderr",
     "output_type": "stream",
     "text": [
      "\r",
      "  0%|          | 0/3 [00:00<?, ?it/s]"
     ]
    },
    {
     "name": "stdout",
     "output_type": "stream",
     "text": [
      "LRM posterior sample generation using LRM data\n"
     ]
    },
    {
     "name": "stderr",
     "output_type": "stream",
     "text": [
      "Sample initial stage: ...\n",
      "Stage: 0 Beta: 0.000 Steps: 25\n",
      "Stage: 1 Beta: 0.000 Steps: 5\n",
      "Stage: 2 Beta: 0.000 Steps: 3\n",
      "Stage: 3 Beta: 0.000 Steps: 4\n",
      "Stage: 4 Beta: 0.000 Steps: 4\n",
      "Stage: 5 Beta: 0.000 Steps: 4\n",
      "Stage: 6 Beta: 0.000 Steps: 5\n",
      "Stage: 7 Beta: 0.000 Steps: 4\n"
     ]
    }
   ],
   "source": [
    "# Instantiate linear reservoir statistical model\n",
    "lrm = LinearReservoirModel(nr,true_args)\n",
    "\n",
    "@as_op(itypes=[tt.dscalar], otypes=[tt.dmatrix])\n",
    "def th_forward_model(param1):\n",
    "    parameter_list = [param1]\n",
    "\n",
    "    th_states = lrm.simulate(parameter_list)\n",
    "    return th_states\n",
    "\n",
    "# Initialise dataframe to store parameter posteriors\n",
    "keys = ['current_model','true_model','parameter','log_marginal_likelihood','mean', 'sd', 'mc_error', 'hpd_2.5', 'hpd_97.5']\n",
    "results = pd.DataFrame(columns=keys)\n",
    "\n",
    "# Initialise empty model and trace dictionaries\n",
    "models = {}\n",
    "traces = {}\n",
    "\n",
    "# Loop over simulated datasets and compute marginal\n",
    "for mi in tqdm(model_discharges.keys()):\n",
    "\n",
    "    print(f'LRM posterior sample generation using {mi} data')\n",
    "\n",
    "    with pm.Model() as LR_model:\n",
    "\n",
    "        # Priors for unknown model parameters\n",
    "        k = pm.Uniform('k', lower=0.01, upper=args.kmax)\n",
    "\n",
    "        # Priors for initial conditions and noise level\n",
    "        sigma = pm.Gamma('sigma',alpha=args.alpha,beta=args.beta)\n",
    "\n",
    "        # Compute forward model\n",
    "        forward = th_forward_model(k)\n",
    "        \n",
    "        # tt.printing.Print('Q_obs')(forward)\n",
    "\n",
    "        # Compute likelihood\n",
    "        Q_obs = pm.Normal('Q_obs', mu=forward, sigma=sigma, observed=model_discharges[mi])\n",
    "\n",
    "        # Fix random seed\n",
    "        np.random.seed(args.randomseed)\n",
    "\n",
    "        # Initial points for each of the chains\n",
    "        startsmc = [{'k':np.random.uniform(0.01,args.kmax,1)} for _ in range(args.nchains)]\n",
    "\n",
    "        # Sample posterior\n",
    "        trace_LR = pm.sample(args.nsamples, progressbar=True, chains=args.nchains, start=startsmc, step=pm.SMC())\n",
    "\n",
    "        # Compute negative log marginal likelihood\n",
    "        log_ml = -np.log(LR_model.marginal_likelihood)\n",
    "\n",
    "        # Append to results\n",
    "        vals = np.append(np.array(['LRM',mi,'k',log_ml]),pm.summary(trace_LR, ['k']).values[0])\n",
    "        results = results.append(dict(zip(keys, vals)),ignore_index=True)\n",
    "        vals = np.append(np.array(['LRM',mi,'sigma',log_ml]),pm.summary(trace_LR, ['sigma']).values[0])\n",
    "        results = results.append(dict(zip(keys, vals)),ignore_index=True)\n",
    "\n",
    "        # Append to models and traces\n",
    "        models[mi] = LR_model\n",
    "        traces[mi] = trace_LR"
   ]
  },
  {
   "cell_type": "code",
   "execution_count": null,
   "metadata": {},
   "outputs": [],
   "source": [
    "results = results.set_index(['current_model','true_model','parameter'])"
   ]
  },
  {
   "cell_type": "code",
   "execution_count": null,
   "metadata": {},
   "outputs": [],
   "source": [
    "print(json.dumps(true_params,indent=2))"
   ]
  },
  {
   "cell_type": "code",
   "execution_count": null,
   "metadata": {},
   "outputs": [],
   "source": [
    "results"
   ]
  },
  {
   "cell_type": "markdown",
   "metadata": {},
   "source": [
    "# Export data"
   ]
  },
  {
   "cell_type": "code",
   "execution_count": null,
   "metadata": {},
   "outputs": [],
   "source": [
    "# Save results as csv\n",
    "results.to_csv(os.path.join(rd,'data','output',args.output_filename.replace('.pickle','_summary.csv')), index = False)"
   ]
  },
  {
   "cell_type": "code",
   "execution_count": null,
   "metadata": {},
   "outputs": [],
   "source": [
    "# Export models\n",
    "for mi in tqdm(models.keys()):\n",
    "    # Save model as pickle\n",
    "    with open(os.path.join(rd,'data','output',args.output_filename.replace('.pickle',f'_{mi}data_model.pickle')), 'wb') as buff1:\n",
    "        pickle.dump(models[mi], buff1)"
   ]
  },
  {
   "cell_type": "code",
   "execution_count": null,
   "metadata": {},
   "outputs": [],
   "source": [
    "# Export traces\n",
    "for mi in tqdm(traces.keys()):\n",
    "    # Save trace as pickle\n",
    "    with open(os.path.join(rd,'data','output',args.output_filename.replace('.pickle',f'_{mi}data_trace.pickle')), 'wb') as buff2:\n",
    "        pickle.dump(traces[mi], buff2)"
   ]
  },
  {
   "cell_type": "code",
   "execution_count": null,
   "metadata": {},
   "outputs": [],
   "source": [
    "print('Posterior computed and saved to...')\n",
    "print(os.path.join(rd,'data','output',args.output_filename.replace('.pickle','')))"
   ]
  },
  {
   "cell_type": "markdown",
   "metadata": {},
   "source": [
    "# Plot"
   ]
  },
  {
   "cell_type": "code",
   "execution_count": null,
   "metadata": {},
   "outputs": [],
   "source": [
    "pm.traceplot(trace_LR);"
   ]
  },
  {
   "cell_type": "code",
   "execution_count": null,
   "metadata": {},
   "outputs": [],
   "source": [
    "_, ax = plt.subplots(figsize=(9, 6))\n",
    "ppc_0 = pm.sample_posterior_predictive(trace_LR, 100, LR_model, size=(len(q), 20))\n",
    "for m_0 in ppc_0['Q_obs'].T:\n",
    "    pm.kdeplot(np.mean(m_0, 0), ax=ax, plot_kwargs={'color':'C0'})\n",
    "ax.plot([], label='Linear Reservoir Model')\n",
    "ax.legend(fontsize=14)\n",
    "ax.set_xlabel(u'θ', fontsize=14)\n",
    "ax.set_yticks([]);"
   ]
  },
  {
   "cell_type": "code",
   "execution_count": null,
   "metadata": {},
   "outputs": [],
   "source": []
  }
 ],
 "metadata": {
  "kernelspec": {
   "display_name": "mini-project",
   "language": "python",
   "name": "mini-project"
  },
  "language_info": {
   "codemirror_mode": {
    "name": "ipython",
    "version": 3
   },
   "file_extension": ".py",
   "mimetype": "text/x-python",
   "name": "python",
   "nbconvert_exporter": "python",
   "pygments_lexer": "ipython3",
   "version": "3.7.5"
  }
 },
 "nbformat": 4,
 "nbformat_minor": 2
}
